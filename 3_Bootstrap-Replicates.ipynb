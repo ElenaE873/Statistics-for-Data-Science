{
 "cells": [
  {
   "cell_type": "markdown",
   "id": "c0e421e9",
   "metadata": {},
   "source": [
    "### Bootstrapping"
   ]
  },
  {
   "cell_type": "markdown",
   "id": "f82770e6",
   "metadata": {},
   "source": [
    "- the use of resampled data to perform statistical inference"
   ]
  },
  {
   "cell_type": "markdown",
   "id": "47cb0e24",
   "metadata": {},
   "source": [
    "#### Bootstrap replicate"
   ]
  },
  {
   "cell_type": "markdown",
   "id": "f8d3f7b3",
   "metadata": {},
   "source": [
    "- a statistic computed from a resampled array"
   ]
  },
  {
   "cell_type": "code",
   "execution_count": null,
   "id": "c5f5c716",
   "metadata": {},
   "outputs": [],
   "source": [
    "def bootstrap_replicate_1d(data, func):\n",
    "    \"\"\"Generate boostrap replicate of 1D data\"\"\"\n",
    "    bs_sample = np.random.choice(data, len(data))\n",
    "    return func(bs_sample)\n",
    "\n",
    "#call the function to get the boostrap replicates\n",
    "boostrap_replicate-1d(df, np.mean)\n",
    "\n",
    "#this can be repeated over and over to build a series of replicates"
   ]
  },
  {
   "cell_type": "markdown",
   "id": "d0d807e5",
   "metadata": {},
   "source": [
    "#### Creating replicates with a for loop"
   ]
  },
  {
   "cell_type": "code",
   "execution_count": null,
   "id": "562f86aa",
   "metadata": {},
   "outputs": [],
   "source": [
    "#to store the bs_replicates\n",
    "bs_replicates = np.empty(10000)\n",
    "\n",
    "for i in range(10000):\n",
    "    bs_replicates[i] = boostrap_replicate_1d(df, np.mean)"
   ]
  },
  {
   "cell_type": "code",
   "execution_count": null,
   "id": "4afab0cb",
   "metadata": {},
   "outputs": [],
   "source": [
    "#plotting the replicates\n",
    "_ = plt.hist(bs_replicates, bins=30, normed=True)\n",
    "_ = plt.xlabel('XTitle')\n",
    "_ = plt.ylabel('YTitle')\n",
    "plt.show()"
   ]
  }
 ],
 "metadata": {
  "kernelspec": {
   "display_name": "Python 3 (ipykernel)",
   "language": "python",
   "name": "python3"
  },
  "language_info": {
   "codemirror_mode": {
    "name": "ipython",
    "version": 3
   },
   "file_extension": ".py",
   "mimetype": "text/x-python",
   "name": "python",
   "nbconvert_exporter": "python",
   "pygments_lexer": "ipython3",
   "version": "3.9.7"
  }
 },
 "nbformat": 4,
 "nbformat_minor": 5
}
