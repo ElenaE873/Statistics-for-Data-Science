{
 "cells": [
  {
   "cell_type": "markdown",
   "id": "2d6e1533",
   "metadata": {},
   "source": [
    "### Plotting an ECDF"
   ]
  },
  {
   "cell_type": "code",
   "execution_count": null,
   "id": "c80b2b91",
   "metadata": {},
   "outputs": [],
   "source": [
    "import numpy as np\n",
    "x = np.sort(df_swing['column'])\n",
    "y = np.arange(1, len(x)+1 / len(x))\n",
    "\n",
    "_ = plt.plot(x, y, marker='.', linestyle='none')\n",
    "_ = plt.xlabel('percent of vote for Obama')\n",
    "_ = plt.ylabel('ECDF')\n",
    "\n",
    "plt.margings(0.02.) #keeping data off the edges\n",
    "plt.show()"
   ]
  },
  {
   "cell_type": "code",
   "execution_count": null,
   "id": "b0d08056",
   "metadata": {},
   "outputs": [],
   "source": [
    "def ecdf(data):\n",
    "    \"\"\"Compute ECDF for a one-dimensional array of measurements.\"\"\"\n",
    "    #number of data points\n",
    "    n = len(data)\n",
    "\n",
    "    #x and y\n",
    "    x = np.sort(data)\n",
    "    y = np.arange(1, n+1) / n\n",
    "\n",
    "    return x, y"
   ]
  },
  {
   "cell_type": "code",
   "execution_count": null,
   "id": "c30f3343",
   "metadata": {},
   "outputs": [],
   "source": [
    "x_vers, y_vers = ecdf(versicolor_petal_length)\n",
    "\n",
    "_ = plt.plot(x_vers, y_vers, marker='.', linestyle='none')\n",
    "_ = plt.xlabel('petal length (cm)')\n",
    "_ = plt.ylabel('ECDF')\n",
    "\n",
    "plt.show()"
   ]
  },
  {
   "cell_type": "code",
   "execution_count": null,
   "id": "83628feb",
   "metadata": {},
   "outputs": [],
   "source": [
    "#computing multiple ECDFs\n",
    "x_set, y_set = ecdf(setosa_petal_length)\n",
    "x_vers, y_vers = ecdf(versicolor_petal_length)\n",
    "x_virg, y_virg = ecdf(virginica_petal_length)\n",
    "\n",
    "_ = plt.plot(x_set, y_set, marker='.', linestyle='none')\n",
    "_ = plt.plot(x_vers, y_vers, marker='.', linestyle='none')\n",
    "_ = plt.plot(x_virg, y_virg, marker='.', linestyle='none')\n",
    "\n",
    "_ = plt.legend(('setosa', 'versicolor', 'virginica'), loc='lower right')\n",
    "_ = plt.xlabel('petal length (cm)')\n",
    "_ = plt.ylabel('ECDF')\n",
    "\n",
    "plt.show()"
   ]
  }
 ],
 "metadata": {
  "kernelspec": {
   "display_name": "Python 3 (ipykernel)",
   "language": "python",
   "name": "python3"
  },
  "language_info": {
   "codemirror_mode": {
    "name": "ipython",
    "version": 3
   },
   "file_extension": ".py",
   "mimetype": "text/x-python",
   "name": "python",
   "nbconvert_exporter": "python",
   "pygments_lexer": "ipython3",
   "version": "3.9.7"
  }
 },
 "nbformat": 4,
 "nbformat_minor": 5
}
